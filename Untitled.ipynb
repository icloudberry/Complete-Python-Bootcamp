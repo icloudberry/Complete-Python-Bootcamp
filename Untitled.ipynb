{
 "cells": [
  {
   "cell_type": "code",
   "execution_count": 1,
   "metadata": {
    "collapsed": false
   },
   "outputs": [],
   "source": [
    "players = ['x', 'o']\n",
    "\n",
    "def printBoard(board):\n",
    "    for line in board:\n",
    "        print line\n",
    "        \n",
    "def getPosition(message):\n",
    "    position=raw_input(message)\n",
    "    position=[int(pos) for pos in position.split()]\n",
    "    return position\n",
    "    \n",
    "def isItBusy(board, position):\n",
    "    return board[position[0]][position[1]] != \"\"\n",
    "\n",
    "def didIWin(board):\n",
    "    for row in board:\n",
    "        if row[0]==row[1] and row[1]==row[2] and row[0]!=\"\":\n",
    "            return True\n",
    "        else:\n",
    "            return False\n",
    "\n",
    "\n",
    "def play_xo():\n",
    "    print \"Welcome to the game! Let's start!\"\n",
    "    \n",
    "    won=False\n",
    "    currentTurn=0\n",
    "    board=[[\"\",\"\",\"\"],[\"\",\"\",\"\"],[\"\",\"\",\"\"]]\n",
    "    \n",
    "    while not won:\n",
    "        print \"Your turn, \"+ players[currentTurn]\n",
    "        # If we are here, than the game is still in progress\n",
    "        printBoard(board)\n",
    "        position=getPosition(\"Enter possition like 'x y': \")\n",
    "        while isItBusy(board, position):\n",
    "            position=getPosition(\"Try again. Enter possition like 'x y': \")\n",
    "    \n",
    "        board[position[0]][position[1]]=players[currentTurn]\n",
    "    \n",
    "        won=didIWin(board)\n",
    "        currentTurn=currentTurn-1\n",
    "    \n",
    "    if won:\n",
    "        print(\"You have won!\")\n",
    "        \n",
    "        \n",
    "    \n",
    "    \n",
    "    "
   ]
  },
  {
   "cell_type": "code",
   "execution_count": 2,
   "metadata": {
    "collapsed": false
   },
   "outputs": [
    {
     "name": "stdout",
     "output_type": "stream",
     "text": [
      "Welcome to the game! Let's start!\n",
      "Your turn, x\n",
      "['', '', '']\n",
      "['', '', '']\n",
      "['', '', '']\n",
      "Enter possition like 'x y': 0 0\n",
      "Your turn, o\n",
      "['x', '', '']\n",
      "['', '', '']\n",
      "['', '', '']\n",
      "Enter possition like 'x y': 0 0\n",
      "Try again. Enter possition like 'x y': 1 1\n",
      "Your turn, x\n",
      "['x', '', '']\n",
      "['', 'o', '']\n",
      "['', '', '']\n",
      "Enter possition like 'x y': 0 1\n"
     ]
    },
    {
     "ename": "IndexError",
     "evalue": "list index out of range",
     "output_type": "error",
     "traceback": [
      "\u001b[0;31m---------------------------------------------------------------------------\u001b[0m",
      "\u001b[0;31mIndexError\u001b[0m                                Traceback (most recent call last)",
      "\u001b[0;32m<ipython-input-2-a9db4e1c6de1>\u001b[0m in \u001b[0;36m<module>\u001b[0;34m()\u001b[0m\n\u001b[0;32m----> 1\u001b[0;31m \u001b[0mplay_xo\u001b[0m\u001b[0;34m(\u001b[0m\u001b[0;34m)\u001b[0m\u001b[0;34m\u001b[0m\u001b[0m\n\u001b[0m",
      "\u001b[0;32m<ipython-input-1-5ad73f4175d0>\u001b[0m in \u001b[0;36mplay_xo\u001b[0;34m()\u001b[0m\n\u001b[1;32m     29\u001b[0m \u001b[0;34m\u001b[0m\u001b[0m\n\u001b[1;32m     30\u001b[0m     \u001b[0;32mwhile\u001b[0m \u001b[0;32mnot\u001b[0m \u001b[0mwon\u001b[0m\u001b[0;34m:\u001b[0m\u001b[0;34m\u001b[0m\u001b[0m\n\u001b[0;32m---> 31\u001b[0;31m         \u001b[0;32mprint\u001b[0m \u001b[0;34m\"Your turn, \"\u001b[0m\u001b[0;34m+\u001b[0m \u001b[0mplayers\u001b[0m\u001b[0;34m[\u001b[0m\u001b[0mcurrentTurn\u001b[0m\u001b[0;34m]\u001b[0m\u001b[0;34m\u001b[0m\u001b[0m\n\u001b[0m\u001b[1;32m     32\u001b[0m         \u001b[0;31m# If we are here, than the game is still in progress\u001b[0m\u001b[0;34m\u001b[0m\u001b[0;34m\u001b[0m\u001b[0m\n\u001b[1;32m     33\u001b[0m         \u001b[0mprintBoard\u001b[0m\u001b[0;34m(\u001b[0m\u001b[0mboard\u001b[0m\u001b[0;34m)\u001b[0m\u001b[0;34m\u001b[0m\u001b[0m\n",
      "\u001b[0;31mIndexError\u001b[0m: list index out of range"
     ]
    }
   ],
   "source": [
    "play_xo()"
   ]
  },
  {
   "cell_type": "code",
   "execution_count": null,
   "metadata": {
    "collapsed": true
   },
   "outputs": [],
   "source": []
  }
 ],
 "metadata": {
  "anaconda-cloud": {},
  "kernelspec": {
   "display_name": "Python [conda root]",
   "language": "python",
   "name": "conda-root-py"
  },
  "language_info": {
   "codemirror_mode": {
    "name": "ipython",
    "version": 2
   },
   "file_extension": ".py",
   "mimetype": "text/x-python",
   "name": "python",
   "nbconvert_exporter": "python",
   "pygments_lexer": "ipython2",
   "version": "2.7.12"
  }
 },
 "nbformat": 4,
 "nbformat_minor": 1
}
