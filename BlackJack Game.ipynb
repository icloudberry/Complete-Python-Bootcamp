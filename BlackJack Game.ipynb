{
 "cells": [
  {
   "cell_type": "code",
   "execution_count": 21,
   "metadata": {
    "collapsed": false
   },
   "outputs": [],
   "source": [
    "import random\n",
    "\n",
    "faces = ['king', 'jack','queen','ace']\n",
    "min_deck = 8\n",
    "min_diller = 17\n",
    "bet = 0\n",
    "wallet = 0\n",
    "\n",
    "class Deck(object):\n",
    "    \n",
    "    \n",
    "    def __init__ (self):\n",
    "        self.cards = ([i for i in range(2, 11)] + faces) * 4\n",
    "        random.shuffle(self.cards)\n",
    "        \n",
    "    def poll(self):\n",
    "        if len(self.cards) == 0:\n",
    "            raise Exception\n",
    "        return self.cards.pop(0)\n",
    "    \n",
    "\n",
    "def start_game():\n",
    "    \n",
    "    print \"Welcome to the best Black Jack game in the world!\"\n",
    "    wallet = int (raw_input(\"How much money do you have for a game?\"))\n",
    "    answer=raw_input(\"Shall we? Y/N \\n\")\n",
    "    deck = Deck()\n",
    "    while answer in [\"Y\", \"y\"]:\n",
    "        # one round is here\n",
    "        if len(deck.cards) < min_deck:\n",
    "            print \"Sorry, the deck is over. Please start from the begining.\"\n",
    "            return\n",
    "    \n",
    "        bet = int(raw_input(\"Please enter your bet (5/10/15/20): \"))\n",
    "        print \"You are betting: \" + str(bet)\n",
    "        wallet = wallet - bet\n",
    "        print \"You still have in the wallet: \" + str(wallet)\n",
    "        \n",
    "        hand = [deck.poll(), deck.poll()]\n",
    "        print hand\n",
    "    \n",
    "        diller = [deck.poll(), deck.poll()]\n",
    "        print diller[0]\n",
    "    \n",
    "        hand_sum = count_sum(hand)\n",
    "        if (check_sum(hand_sum)):\n",
    "            print \"The game is over. You've lost :(\"\n",
    "            return\n",
    "     \n",
    "        #player's turn\n",
    "        turn = raw_input ( \"Hit or stand: \")\n",
    "        while turn in [\"hit\", \"HIT\", \"Hit\"]:\n",
    "            hand = hand + [deck.poll()]\n",
    "            hand_sum = count_sum(hand)\n",
    "            if check_sum(hand_sum):\n",
    "                print \"The game is over.\"\n",
    "                return\n",
    "            turn = raw_input ( \"Hit or stand: \")\n",
    "            \n",
    "        print \"You did your turn and now have: \" + str(hand) + \", with the total value of \" + str(hand_sum)\n",
    "        \n",
    "        # diller's turn\n",
    "        print \"Diller has: \" + str(diller)\n",
    "        diller_sum = count_sum(diller)\n",
    "        while diller_sum < min_diller:\n",
    "            diller += [deck.poll()]\n",
    "            diller_sum = count_sum(diller)\n",
    "        print \"Diller did his turn and now has: \" + str(diller) + \", with the total value of \" + str(diller_sum)\n",
    "        \n",
    "        print_result(diller_sum, hand_sum)\n",
    "\n",
    "        answer=raw_input(\"Shall we do it again? Y/N \\n\")\n",
    "        \n",
    "    print \"Chiao!\"\n",
    "        \n",
    "    \n",
    "def check_sum(hand_sum):\n",
    "    isGameOver = False\n",
    "    print \"Your hand value is: \" + str(hand_sum)\n",
    "    if hand_sum > 21:\n",
    "        isGameOver = True\n",
    "        print \"Sorry, you've busted! :(\"\n",
    "    elif hand_sum == 21 :\n",
    "        isGameOver = True\n",
    "        print \"You've got a Black Jack! :D\"\n",
    "    return isGameOver\n",
    "    \n",
    "def count_sum(hand):\n",
    "    hand_sum = 0\n",
    "    for c in hand:\n",
    "        if c in faces:\n",
    "            if c != \"ace\":\n",
    "                hand_sum += 10\n",
    "        else:\n",
    "            hand_sum += c\n",
    "    aces = hand.count(\"ace\")\n",
    "    hand_sum += 1*aces\n",
    "     \n",
    "    while hand_sum < 21 and (21 - hand_sum) >= 10 and aces > 0:\n",
    "        hand_sum+=10\n",
    "        aces -= 1\n",
    "   \n",
    "    return hand_sum \n",
    "\n",
    "def print_result(diller_sum, hand_sum):\n",
    "    print \"******** The game is over ***********\"\n",
    "    if diller_sum > 21 or hand_sum > diller_sum:\n",
    "        print \"You've won!\"\n",
    "    elif diller_sum > hand_sum:\n",
    "        print \"You've lost\"\n",
    "    elif diller_sum == hand_sum:\n",
    "        print \"Push!\"\n",
    "        \n",
    "        \n",
    "\n",
    "        \n",
    "        "
   ]
  },
  {
   "cell_type": "code",
   "execution_count": 8,
   "metadata": {
    "collapsed": false
   },
   "outputs": [
    {
     "name": "stdout",
     "output_type": "stream",
     "text": [
      "[8, 'jack', 8, 10, 'king', 'ace', 2, 2, 5, 9, 4, 'ace', 'jack', 7, 'king', 'queen', 7, 3, 6, 6, 5, 'jack', 7, 2, 3, 9, 2, 7, 'ace', 6, 4, 'king', 8, 10, 'jack', 'queen', 'queen', 5, 8, 9, 10, 5, 4, 'queen', 9, 4, 'ace', 3, 6, 3, 10, 'king']\n",
      "21\n"
     ]
    }
   ],
   "source": [
    "deck = Deck()\n",
    "print deck.cards\n",
    "\n",
    "print count_sum([\n",
    "        10, \"ace\"])"
   ]
  },
  {
   "cell_type": "code",
   "execution_count": 22,
   "metadata": {
    "collapsed": false
   },
   "outputs": [
    {
     "name": "stdout",
     "output_type": "stream",
     "text": [
      "Welcome to the best Black Jack game in the world!\n",
      "How much money do you have for a game?20\n",
      "Shall we? Y/N \n",
      "y\n",
      "Please enter your bet (5/10/15/20): 5\n",
      "You are betting: 5\n",
      "You still have in the wallet: 15\n",
      "[6, 5]\n",
      "9\n",
      "Your hand value is: 11\n",
      "Hit or stand: hit\n",
      "Your hand value is: 18\n",
      "Hit or stand: hit\n",
      "Your hand value is: 28\n",
      "Sorry, you've busted! :(\n",
      "The game is over.\n"
     ]
    }
   ],
   "source": [
    "start_game()"
   ]
  },
  {
   "cell_type": "code",
   "execution_count": null,
   "metadata": {
    "collapsed": true
   },
   "outputs": [],
   "source": []
  }
 ],
 "metadata": {
  "anaconda-cloud": {},
  "kernelspec": {
   "display_name": "Python [default]",
   "language": "python",
   "name": "python2"
  },
  "language_info": {
   "codemirror_mode": {
    "name": "ipython",
    "version": 2
   },
   "file_extension": ".py",
   "mimetype": "text/x-python",
   "name": "python",
   "nbconvert_exporter": "python",
   "pygments_lexer": "ipython2",
   "version": "2.7.12"
  }
 },
 "nbformat": 4,
 "nbformat_minor": 1
}
