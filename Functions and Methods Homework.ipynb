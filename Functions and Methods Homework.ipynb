{
 "cells": [
  {
   "cell_type": "markdown",
   "metadata": {},
   "source": [
    "# Functions and Methods Homework \n",
    "\n",
    "Complete the following questions:\n",
    "____\n",
    "**Write a function that computes the volume of a sphere given its radius.**"
   ]
  },
  {
   "cell_type": "code",
   "execution_count": 4,
   "metadata": {
    "collapsed": false
   },
   "outputs": [
    {
     "data": {
      "text/plain": [
       "2.355"
      ]
     },
     "execution_count": 4,
     "metadata": {},
     "output_type": "execute_result"
    }
   ],
   "source": [
    "def vol(rad):\n",
    "    return (3.0/4)*3.14*rad**3\n",
    "\n",
    "vol(1)"
   ]
  },
  {
   "cell_type": "markdown",
   "metadata": {},
   "source": [
    "___\n",
    "**Write a function that checks whether a number is in a given range (Inclusive of high and low)**"
   ]
  },
  {
   "cell_type": "code",
   "execution_count": 5,
   "metadata": {
    "collapsed": false
   },
   "outputs": [
    {
     "name": "stdout",
     "output_type": "stream",
     "text": [
      "no\n",
      "None\n",
      "Yes\n",
      "None\n"
     ]
    }
   ],
   "source": [
    "def ran_check(num,low,high):\n",
    "    if low<=num<=high:\n",
    "        print 'Yes'   \n",
    "    else:\n",
    "        print 'no'\n",
    "print ran_check(1,2,3)\n",
    "print ran_check(-5, -10, 10)"
   ]
  },
  {
   "cell_type": "markdown",
   "metadata": {},
   "source": [
    "If you only wanted to return a boolean:"
   ]
  },
  {
   "cell_type": "code",
   "execution_count": 19,
   "metadata": {
    "collapsed": true
   },
   "outputs": [],
   "source": [
    "def ran_bool(num,low,high):\n",
    "    return num in range(low, high)"
   ]
  },
  {
   "cell_type": "code",
   "execution_count": 22,
   "metadata": {
    "collapsed": false
   },
   "outputs": [
    {
     "data": {
      "text/plain": [
       "True"
      ]
     },
     "execution_count": 22,
     "metadata": {},
     "output_type": "execute_result"
    }
   ],
   "source": [
    "ran_bool(1,1,10)"
   ]
  },
  {
   "cell_type": "markdown",
   "metadata": {},
   "source": [
    "____\n",
    "**Write a Python function that accepts a string and calculate the number of upper case letters and lower case letters.**\n",
    "\n",
    "    Sample String : 'Hello Mr. Rogers, how are you this fine Tuesday?'\n",
    "    Expected Output : \n",
    "    No. of Upper case characters : 4\n",
    "    No. of Lower case Characters : 33\n",
    "\n",
    "If you feel ambitious, explore the Collections module to solve this problem!"
   ]
  },
  {
   "cell_type": "code",
   "execution_count": 15,
   "metadata": {
    "collapsed": false
   },
   "outputs": [
    {
     "name": "stdout",
     "output_type": "stream",
     "text": [
      "No. of Upper case characters : \n",
      "4\n",
      "No. of Lower case characters : \n",
      "33\n"
     ]
    }
   ],
   "source": [
    "def up_low(s):\n",
    "    upper=0\n",
    "    lower=0\n",
    "    for letter in s:\n",
    "        if letter.isupper():\n",
    "            upper+=1\n",
    "        elif letter.islower():\n",
    "            lower+=1\n",
    "        else:\n",
    "            continue\n",
    "        \n",
    "    print \"No. of Upper case characters : \" \n",
    "    print upper\n",
    "    print \"No. of Lower case characters : \" \n",
    "    print lower\n",
    "            \n",
    "up_low('Hello Mr. Rogers, how are you this fine Tuesday?')      \n"
   ]
  },
  {
   "cell_type": "markdown",
   "metadata": {},
   "source": [
    "____\n",
    "**Write a Python function that takes a list and returns a new list with unique elements of the first list.**\n",
    "\n",
    "    Sample List : [1,1,1,1,2,2,3,3,3,3,4,5]\n",
    "    Unique List : [1, 2, 3, 4, 5]"
   ]
  },
  {
   "cell_type": "code",
   "execution_count": 27,
   "metadata": {
    "collapsed": false
   },
   "outputs": [],
   "source": [
    "def unique_list(l):\n",
    "    return set(l)"
   ]
  },
  {
   "cell_type": "code",
   "execution_count": 28,
   "metadata": {
    "collapsed": false
   },
   "outputs": [
    {
     "data": {
      "text/plain": [
       "{1, 2, 3, 4, 5}"
      ]
     },
     "execution_count": 28,
     "metadata": {},
     "output_type": "execute_result"
    }
   ],
   "source": [
    "unique_list([1,1,1,1,2,2,3,3,3,3,4,5])"
   ]
  },
  {
   "cell_type": "markdown",
   "metadata": {},
   "source": [
    "____\n",
    "**Write a Python function to multiply all the numbers in a list.**\n",
    "\n",
    "    Sample List : [1, 2, 3, -4]\n",
    "    Expected Output : -24"
   ]
  },
  {
   "cell_type": "code",
   "execution_count": 29,
   "metadata": {
    "collapsed": true
   },
   "outputs": [],
   "source": [
    "def multiply(numbers):  \n",
    "    res=1\n",
    "    for num in numbers:\n",
    "        res*=num\n",
    "    return res"
   ]
  },
  {
   "cell_type": "code",
   "execution_count": 30,
   "metadata": {
    "collapsed": false
   },
   "outputs": [
    {
     "data": {
      "text/plain": [
       "-24"
      ]
     },
     "execution_count": 30,
     "metadata": {},
     "output_type": "execute_result"
    }
   ],
   "source": [
    "multiply([1,2,3,-4])"
   ]
  },
  {
   "cell_type": "markdown",
   "metadata": {},
   "source": [
    "____\n",
    "**Write a Python function that checks whether a passed string is palindrome or not.**\n",
    "\n",
    "Note: A palindrome is word, phrase, or sequence that reads the same backward as forward, e.g., madam or nurses run."
   ]
  },
  {
   "cell_type": "code",
   "execution_count": 31,
   "metadata": {
    "collapsed": true
   },
   "outputs": [],
   "source": [
    "def palindrome(s):\n",
    "    return s==s[::-1]"
   ]
  },
  {
   "cell_type": "code",
   "execution_count": 33,
   "metadata": {
    "collapsed": false
   },
   "outputs": [
    {
     "data": {
      "text/plain": [
       "True"
      ]
     },
     "execution_count": 33,
     "metadata": {},
     "output_type": "execute_result"
    }
   ],
   "source": [
    "palindrome('helleh')"
   ]
  },
  {
   "cell_type": "markdown",
   "metadata": {},
   "source": [
    "____\n",
    "**Hard**:\n",
    "\n",
    "Write a Python function to check whether a string is pangram or not.\n",
    "\n",
    "    Note : Pangrams are words or sentences containing every letter of the alphabet at least once.\n",
    "    For example : \"The quick brown fox jumps over the lazy dog\"\n",
    "\n",
    "Hint: Look at the string module"
   ]
  },
  {
   "cell_type": "code",
   "execution_count": 43,
   "metadata": {
    "collapsed": false
   },
   "outputs": [
    {
     "name": "stdout",
     "output_type": "stream",
     "text": [
      "Help on module string:\n",
      "\n",
      "NAME\n",
      "    string - A collection of string operations (most are no longer used).\n",
      "\n",
      "FILE\n",
      "    /home/irina/anaconda2/lib/python2.7/string.py\n",
      "\n",
      "MODULE DOCS\n",
      "    http://docs.python.org/library/string\n",
      "\n",
      "DESCRIPTION\n",
      "    Warning: most of the code you see here isn't normally used nowadays.\n",
      "    Beginning with Python 1.6, many of these functions are implemented as\n",
      "    methods on the standard string object. They used to be implemented by\n",
      "    a built-in module called strop, but strop is now obsolete itself.\n",
      "    \n",
      "    Public module variables:\n",
      "    \n",
      "    whitespace -- a string containing all characters considered whitespace\n",
      "    lowercase -- a string containing all characters considered lowercase letters\n",
      "    uppercase -- a string containing all characters considered uppercase letters\n",
      "    letters -- a string containing all characters considered letters\n",
      "    digits -- a string containing all characters considered decimal digits\n",
      "    hexdigits -- a string containing all characters considered hexadecimal digits\n",
      "    octdigits -- a string containing all characters considered octal digits\n",
      "    punctuation -- a string containing all characters considered punctuation\n",
      "    printable -- a string containing all characters considered printable\n",
      "\n",
      "CLASSES\n",
      "    __builtin__.object\n",
      "        Formatter\n",
      "        Template\n",
      "    \n",
      "    class Formatter(__builtin__.object)\n",
      "     |  Methods defined here:\n",
      "     |  \n",
      "     |  check_unused_args(self, used_args, args, kwargs)\n",
      "     |  \n",
      "     |  convert_field(self, value, conversion)\n",
      "     |  \n",
      "     |  format(*args, **kwargs)\n",
      "     |  \n",
      "     |  format_field(self, value, format_spec)\n",
      "     |  \n",
      "     |  get_field(self, field_name, args, kwargs)\n",
      "     |      # given a field_name, find the object it references.\n",
      "     |      #  field_name:   the field being looked up, e.g. \"0.name\"\n",
      "     |      #                 or \"lookup[3]\"\n",
      "     |      #  used_args:    a set of which args have been used\n",
      "     |      #  args, kwargs: as passed in to vformat\n",
      "     |  \n",
      "     |  get_value(self, key, args, kwargs)\n",
      "     |  \n",
      "     |  parse(self, format_string)\n",
      "     |      # returns an iterable that contains tuples of the form:\n",
      "     |      # (literal_text, field_name, format_spec, conversion)\n",
      "     |      # literal_text can be zero length\n",
      "     |      # field_name can be None, in which case there's no\n",
      "     |      #  object to format and output\n",
      "     |      # if field_name is not None, it is looked up, formatted\n",
      "     |      #  with format_spec and conversion and then used\n",
      "     |  \n",
      "     |  vformat(self, format_string, args, kwargs)\n",
      "     |  \n",
      "     |  ----------------------------------------------------------------------\n",
      "     |  Data descriptors defined here:\n",
      "     |  \n",
      "     |  __dict__\n",
      "     |      dictionary for instance variables (if defined)\n",
      "     |  \n",
      "     |  __weakref__\n",
      "     |      list of weak references to the object (if defined)\n",
      "    \n",
      "    class Template(__builtin__.object)\n",
      "     |  A string class for supporting $-substitutions.\n",
      "     |  \n",
      "     |  Methods defined here:\n",
      "     |  \n",
      "     |  __init__(self, template)\n",
      "     |  \n",
      "     |  safe_substitute(*args, **kws)\n",
      "     |  \n",
      "     |  substitute(*args, **kws)\n",
      "     |  \n",
      "     |  ----------------------------------------------------------------------\n",
      "     |  Data descriptors defined here:\n",
      "     |  \n",
      "     |  __dict__\n",
      "     |      dictionary for instance variables (if defined)\n",
      "     |  \n",
      "     |  __weakref__\n",
      "     |      list of weak references to the object (if defined)\n",
      "     |  \n",
      "     |  ----------------------------------------------------------------------\n",
      "     |  Data and other attributes defined here:\n",
      "     |  \n",
      "     |  __metaclass__ = <class 'string._TemplateMetaclass'>\n",
      "     |  \n",
      "     |  \n",
      "     |  delimiter = '$'\n",
      "     |  \n",
      "     |  idpattern = '[_a-z][_a-z0-9]*'\n",
      "     |  \n",
      "     |  pattern = <_sre.SRE_Pattern object>\n",
      "\n",
      "FUNCTIONS\n",
      "    atof(s)\n",
      "        atof(s) -> float\n",
      "        \n",
      "        Return the floating point number represented by the string s.\n",
      "    \n",
      "    atoi(s, base=10)\n",
      "        atoi(s [,base]) -> int\n",
      "        \n",
      "        Return the integer represented by the string s in the given\n",
      "        base, which defaults to 10.  The string s must consist of one\n",
      "        or more digits, possibly preceded by a sign.  If base is 0, it\n",
      "        is chosen from the leading characters of s, 0 for octal, 0x or\n",
      "        0X for hexadecimal.  If base is 16, a preceding 0x or 0X is\n",
      "        accepted.\n",
      "    \n",
      "    atol(s, base=10)\n",
      "        atol(s [,base]) -> long\n",
      "        \n",
      "        Return the long integer represented by the string s in the\n",
      "        given base, which defaults to 10.  The string s must consist\n",
      "        of one or more digits, possibly preceded by a sign.  If base\n",
      "        is 0, it is chosen from the leading characters of s, 0 for\n",
      "        octal, 0x or 0X for hexadecimal.  If base is 16, a preceding\n",
      "        0x or 0X is accepted.  A trailing L or l is not accepted,\n",
      "        unless base is 0.\n",
      "    \n",
      "    capitalize(s)\n",
      "        capitalize(s) -> string\n",
      "        \n",
      "        Return a copy of the string s with only its first character\n",
      "        capitalized.\n",
      "    \n",
      "    capwords(s, sep=None)\n",
      "        capwords(s [,sep]) -> string\n",
      "        \n",
      "        Split the argument into words using split, capitalize each\n",
      "        word using capitalize, and join the capitalized words using\n",
      "        join.  If the optional second argument sep is absent or None,\n",
      "        runs of whitespace characters are replaced by a single space\n",
      "        and leading and trailing whitespace are removed, otherwise\n",
      "        sep is used to split and join the words.\n",
      "    \n",
      "    center(s, width, *args)\n",
      "        center(s, width[, fillchar]) -> string\n",
      "        \n",
      "        Return a center version of s, in a field of the specified\n",
      "        width. padded with spaces as needed.  The string is never\n",
      "        truncated.  If specified the fillchar is used instead of spaces.\n",
      "    \n",
      "    count(s, *args)\n",
      "        count(s, sub[, start[,end]]) -> int\n",
      "        \n",
      "        Return the number of occurrences of substring sub in string\n",
      "        s[start:end].  Optional arguments start and end are\n",
      "        interpreted as in slice notation.\n",
      "    \n",
      "    expandtabs(s, tabsize=8)\n",
      "        expandtabs(s [,tabsize]) -> string\n",
      "        \n",
      "        Return a copy of the string s with all tab characters replaced\n",
      "        by the appropriate number of spaces, depending on the current\n",
      "        column, and the tabsize (default 8).\n",
      "    \n",
      "    find(s, *args)\n",
      "        find(s, sub [,start [,end]]) -> in\n",
      "        \n",
      "        Return the lowest index in s where substring sub is found,\n",
      "        such that sub is contained within s[start,end].  Optional\n",
      "        arguments start and end are interpreted as in slice notation.\n",
      "        \n",
      "        Return -1 on failure.\n",
      "    \n",
      "    index(s, *args)\n",
      "        index(s, sub [,start [,end]]) -> int\n",
      "        \n",
      "        Like find but raises ValueError when the substring is not found.\n",
      "    \n",
      "    join(words, sep=' ')\n",
      "        join(list [,sep]) -> string\n",
      "        \n",
      "        Return a string composed of the words in list, with\n",
      "        intervening occurrences of sep.  The default separator is a\n",
      "        single space.\n",
      "        \n",
      "        (joinfields and join are synonymous)\n",
      "    \n",
      "    joinfields = join(words, sep=' ')\n",
      "        join(list [,sep]) -> string\n",
      "        \n",
      "        Return a string composed of the words in list, with\n",
      "        intervening occurrences of sep.  The default separator is a\n",
      "        single space.\n",
      "        \n",
      "        (joinfields and join are synonymous)\n",
      "    \n",
      "    ljust(s, width, *args)\n",
      "        ljust(s, width[, fillchar]) -> string\n",
      "        \n",
      "        Return a left-justified version of s, in a field of the\n",
      "        specified width, padded with spaces as needed.  The string is\n",
      "        never truncated.  If specified the fillchar is used instead of spaces.\n",
      "    \n",
      "    lower(s)\n",
      "        lower(s) -> string\n",
      "        \n",
      "        Return a copy of the string s converted to lowercase.\n",
      "    \n",
      "    lstrip(s, chars=None)\n",
      "        lstrip(s [,chars]) -> string\n",
      "        \n",
      "        Return a copy of the string s with leading whitespace removed.\n",
      "        If chars is given and not None, remove characters in chars instead.\n",
      "    \n",
      "    maketrans(...)\n",
      "        maketrans(frm, to) -> string\n",
      "        \n",
      "        Return a translation table (a string of 256 bytes long)\n",
      "        suitable for use in string.translate.  The strings frm and to\n",
      "        must be of the same length.\n",
      "    \n",
      "    replace(s, old, new, maxreplace=-1)\n",
      "        replace (str, old, new[, maxreplace]) -> string\n",
      "        \n",
      "        Return a copy of string str with all occurrences of substring\n",
      "        old replaced by new. If the optional argument maxreplace is\n",
      "        given, only the first maxreplace occurrences are replaced.\n",
      "    \n",
      "    rfind(s, *args)\n",
      "        rfind(s, sub [,start [,end]]) -> int\n",
      "        \n",
      "        Return the highest index in s where substring sub is found,\n",
      "        such that sub is contained within s[start,end].  Optional\n",
      "        arguments start and end are interpreted as in slice notation.\n",
      "        \n",
      "        Return -1 on failure.\n",
      "    \n",
      "    rindex(s, *args)\n",
      "        rindex(s, sub [,start [,end]]) -> int\n",
      "        \n",
      "        Like rfind but raises ValueError when the substring is not found.\n",
      "    \n",
      "    rjust(s, width, *args)\n",
      "        rjust(s, width[, fillchar]) -> string\n",
      "        \n",
      "        Return a right-justified version of s, in a field of the\n",
      "        specified width, padded with spaces as needed.  The string is\n",
      "        never truncated.  If specified the fillchar is used instead of spaces.\n",
      "    \n",
      "    rsplit(s, sep=None, maxsplit=-1)\n",
      "        rsplit(s [,sep [,maxsplit]]) -> list of strings\n",
      "        \n",
      "        Return a list of the words in the string s, using sep as the\n",
      "        delimiter string, starting at the end of the string and working\n",
      "        to the front.  If maxsplit is given, at most maxsplit splits are\n",
      "        done. If sep is not specified or is None, any whitespace string\n",
      "        is a separator.\n",
      "    \n",
      "    rstrip(s, chars=None)\n",
      "        rstrip(s [,chars]) -> string\n",
      "        \n",
      "        Return a copy of the string s with trailing whitespace removed.\n",
      "        If chars is given and not None, remove characters in chars instead.\n",
      "    \n",
      "    split(s, sep=None, maxsplit=-1)\n",
      "        split(s [,sep [,maxsplit]]) -> list of strings\n",
      "        \n",
      "        Return a list of the words in the string s, using sep as the\n",
      "        delimiter string.  If maxsplit is given, splits at no more than\n",
      "        maxsplit places (resulting in at most maxsplit+1 words).  If sep\n",
      "        is not specified or is None, any whitespace string is a separator.\n",
      "        \n",
      "        (split and splitfields are synonymous)\n",
      "    \n",
      "    splitfields = split(s, sep=None, maxsplit=-1)\n",
      "        split(s [,sep [,maxsplit]]) -> list of strings\n",
      "        \n",
      "        Return a list of the words in the string s, using sep as the\n",
      "        delimiter string.  If maxsplit is given, splits at no more than\n",
      "        maxsplit places (resulting in at most maxsplit+1 words).  If sep\n",
      "        is not specified or is None, any whitespace string is a separator.\n",
      "        \n",
      "        (split and splitfields are synonymous)\n",
      "    \n",
      "    strip(s, chars=None)\n",
      "        strip(s [,chars]) -> string\n",
      "        \n",
      "        Return a copy of the string s with leading and trailing\n",
      "        whitespace removed.\n",
      "        If chars is given and not None, remove characters in chars instead.\n",
      "        If chars is unicode, S will be converted to unicode before stripping.\n",
      "    \n",
      "    swapcase(s)\n",
      "        swapcase(s) -> string\n",
      "        \n",
      "        Return a copy of the string s with upper case characters\n",
      "        converted to lowercase and vice versa.\n",
      "    \n",
      "    translate(s, table, deletions='')\n",
      "        translate(s,table [,deletions]) -> string\n",
      "        \n",
      "        Return a copy of the string s, where all characters occurring\n",
      "        in the optional argument deletions are removed, and the\n",
      "        remaining characters have been mapped through the given\n",
      "        translation table, which must be a string of length 256.  The\n",
      "        deletions argument is not allowed for Unicode strings.\n",
      "    \n",
      "    upper(s)\n",
      "        upper(s) -> string\n",
      "        \n",
      "        Return a copy of the string s converted to uppercase.\n",
      "    \n",
      "    zfill(x, width)\n",
      "        zfill(x, width) -> string\n",
      "        \n",
      "        Pad a numeric string x with zeros on the left, to fill a field\n",
      "        of the specified width.  The string x is never truncated.\n",
      "\n",
      "DATA\n",
      "    ascii_letters = 'abcdefghijklmnopqrstuvwxyzABCDEFGHIJKLMNOPQRSTUVWXYZ'\n",
      "    ascii_lowercase = 'abcdefghijklmnopqrstuvwxyz'\n",
      "    ascii_uppercase = 'ABCDEFGHIJKLMNOPQRSTUVWXYZ'\n",
      "    digits = '0123456789'\n",
      "    hexdigits = '0123456789abcdefABCDEF'\n",
      "    letters = 'ABCDEFGHIJKLMNOPQRSTUVWXYZabcdefghijklmnopqrstuvwxyz'\n",
      "    lowercase = 'abcdefghijklmnopqrstuvwxyz'\n",
      "    octdigits = '01234567'\n",
      "    printable = '0123456789abcdefghijklmnopqrstuvwxyzABCDEFGHIJKLMNOPQRSTU...\n",
      "    punctuation = '!\"#$%&\\'()*+,-./:;<=>?@[\\\\]^_`{|}~'\n",
      "    uppercase = 'ABCDEFGHIJKLMNOPQRSTUVWXYZ'\n",
      "    whitespace = '\\t\\n\\x0b\\x0c\\r '\n",
      "\n",
      "\n"
     ]
    }
   ],
   "source": [
    "import string\n",
    "\n",
    "def ispangram(str1, alphabet=string.ascii_lowercase):  \n",
    "    set_list=set(str1)\n",
    "    if len(set_list)!=len(alphabet):\n",
    "        return False\n",
    "    for letter in alphabet:\n",
    "        if letter not in set_list:\n",
    "            return False\n",
    "    return True\n",
    "        \n",
    "help(string)"
   ]
  },
  {
   "cell_type": "code",
   "execution_count": 42,
   "metadata": {
    "collapsed": false
   },
   "outputs": [
    {
     "data": {
      "text/plain": [
       "False"
      ]
     },
     "execution_count": 42,
     "metadata": {},
     "output_type": "execute_result"
    }
   ],
   "source": [
    "ispangram(\"The quick brown fox jumps over the lazy dog\")"
   ]
  },
  {
   "cell_type": "code",
   "execution_count": 36,
   "metadata": {
    "collapsed": false
   },
   "outputs": [
    {
     "data": {
      "text/plain": [
       "'abcdefghijklmnopqrstuvwxyz'"
      ]
     },
     "execution_count": 36,
     "metadata": {},
     "output_type": "execute_result"
    }
   ],
   "source": [
    "string.ascii_lowercase"
   ]
  },
  {
   "cell_type": "markdown",
   "metadata": {
    "collapsed": true
   },
   "source": [
    "####**Great Job!**"
   ]
  }
 ],
 "metadata": {
  "kernelspec": {
   "display_name": "Python [default]",
   "language": "python",
   "name": "python2"
  },
  "language_info": {
   "codemirror_mode": {
    "name": "ipython",
    "version": 2
   },
   "file_extension": ".py",
   "mimetype": "text/x-python",
   "name": "python",
   "nbconvert_exporter": "python",
   "pygments_lexer": "ipython2",
   "version": "2.7.12"
  }
 },
 "nbformat": 4,
 "nbformat_minor": 0
}
